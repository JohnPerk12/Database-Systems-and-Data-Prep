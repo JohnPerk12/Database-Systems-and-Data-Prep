{
 "cells": [
  {
   "cell_type": "markdown",
   "metadata": {
    "deletable": true,
    "editable": true
   },
   "source": [
    "# Introduction\n",
    "In this assignment, I will be manipulating and examining the XYZ company Data for Marketing and CRM. The data was downloaded from the SSCC as csv files. The files will be titled: Customer, Item, and mail."
   ]
  },
  {
   "cell_type": "markdown",
   "metadata": {
    "deletable": true,
    "editable": true
   },
   "source": [
    "# Part 1\n",
    "The following packages were imported after being installed in order to complete parts 1-5."
   ]
  },
  {
   "cell_type": "code",
   "execution_count": null,
   "metadata": {
    "collapsed": true,
    "deletable": true,
    "editable": true
   },
   "outputs": [],
   "source": [
    "import pandas as pd\n",
    "import xlrd\n",
    "import sqlalchemy"
   ]
  },
  {
   "cell_type": "markdown",
   "metadata": {
    "deletable": true,
    "editable": true
   },
   "source": [
    "The files were imported into padas data frames"
   ]
  },
  {
   "cell_type": "code",
   "execution_count": null,
   "metadata": {
    "collapsed": true,
    "deletable": true,
    "editable": true
   },
   "outputs": [],
   "source": [
    "cust_df=pd.read_csv('jpf6752_customer.csv')\n",
    "type(cust_df)\n",
    "item_df=pd.read_csv('jpf6752_item.csv')\n",
    "type(item_df)\n",
    "mail_df=pd.read_csv('jpf6752_mail.csv')\n",
    "type(cust_df)"
   ]
  },
  {
   "cell_type": "markdown",
   "metadata": {
    "deletable": true,
    "editable": true
   },
   "source": [
    "Print the column names and the first four records of the customers, items, and mail data frames"
   ]
  },
  {
   "cell_type": "code",
   "execution_count": null,
   "metadata": {
    "collapsed": true,
    "deletable": true,
    "editable": true
   },
   "outputs": [],
   "source": [
    "#Customers\n",
    "cust_df.shape\n",
    "cust_df.columns\n",
    "cust_df.head(4)\n",
    "#Items\n",
    "item_df.shape\n",
    "item_df.columns\n",
    "item_df.head(4)\n",
    "#Mail\n",
    "mail_df.shape\n",
    "mail_df.columns\n",
    "mail_df.head(4)"
   ]
  },
  {
   "cell_type": "markdown",
   "metadata": {
    "deletable": true,
    "editable": true
   },
   "source": [
    "# Part 2\n",
    "Each of the data frames above were sorted to include active buyers only. They were then imported into a SQLite dattabase names xyz.db."
   ]
  },
  {
   "cell_type": "code",
   "execution_count": null,
   "metadata": {
    "collapsed": true,
    "deletable": true,
    "editable": true
   },
   "outputs": [],
   "source": [
    "cust_df.insert(9,'active_buyer', np.where(cust_df.buyer_status=='ACTIVE',1,2))\n",
    "cust_df.head(10)\n",
    "\n",
    "#Pre-sorted DataFrame for active customers, see part 5\n",
    "cust_df2 = cust_df.loc[cust_df['buyer_status'] == 'ACTIVE']\n",
    "cust_df2.head(10)\n",
    "\n",
    "#Import swlaclhemy in order to do the rest of part 2\n",
    "import sqlalchemy #installed package SQLAlchemy 1.1.6-1\n",
    "from sqlalchemy import create_engine"
   ]
  },
  {
   "cell_type": "markdown",
   "metadata": {
    "deletable": true,
    "editable": true
   },
   "source": [
    "Create the engine and check to see what table names are already in the engine. In this case, there are no table names written."
   ]
  },
  {
   "cell_type": "code",
   "execution_count": null,
   "metadata": {
    "collapsed": true,
    "deletable": true,
    "editable": true
   },
   "outputs": [],
   "source": [
    "engine=create_engine('sqlite:///xyz.db')\n",
    "conn=engine.connect()\n",
    "\n",
    "engine.table_names()"
   ]
  },
  {
   "cell_type": "markdown",
   "metadata": {
    "deletable": true,
    "editable": true
   },
   "source": [
    "Write the customers data frame containing only active buyers to the database."
   ]
  },
  {
   "cell_type": "code",
   "execution_count": null,
   "metadata": {
    "collapsed": true,
    "deletable": true,
    "editable": true
   },
   "outputs": [],
   "source": [
    "cust_df.to_sql('Customers',conn,index=False)\n",
    "\n",
    "count = pd.read_sql_query(\"SELECT COUNT(*) FROM Customers\",conn)\n",
    "print(count)"
   ]
  },
  {
   "cell_type": "markdown",
   "metadata": {
    "deletable": true,
    "editable": true
   },
   "source": [
    "Write the Items table and Mail data frames to the xyz database."
   ]
  },
  {
   "cell_type": "code",
   "execution_count": null,
   "metadata": {
    "collapsed": true,
    "deletable": true,
    "editable": true
   },
   "outputs": [],
   "source": [
    "item_df.to_sql('Items',conn,index=False)\n",
    "mail_df.to_sql('Mail',conn,index=False)"
   ]
  },
  {
   "cell_type": "markdown",
   "metadata": {
    "deletable": true,
    "editable": true
   },
   "source": [
    "Double checking the engine table names to ensure that they were written correctly."
   ]
  },
  {
   "cell_type": "code",
   "execution_count": null,
   "metadata": {
    "collapsed": true,
    "deletable": true,
    "editable": true
   },
   "outputs": [],
   "source": [
    "engine.table_names()"
   ]
  },
  {
   "cell_type": "markdown",
   "metadata": {
    "deletable": true,
    "editable": true
   },
   "source": [
    "# Part 3\n",
    "In part three, a new table called \"custsum\" was created to model a couple of effects that were placed on the data frame. Parts A-G were combined for ease of writing the code."
   ]
  },
  {
   "cell_type": "markdown",
   "metadata": {
    "deletable": true,
    "editable": true
   },
   "source": [
    "Reading the customer data frame and then sorting it to include active buyers only. "
   ]
  },
  {
   "cell_type": "code",
   "execution_count": null,
   "metadata": {
    "collapsed": true,
    "deletable": true,
    "editable": true
   },
   "outputs": [],
   "source": [
    "catsum2 = cust_df\n",
    "catsum2.head(20)\n",
    "catsum3 = catsum2[catsum2.buyer_status == 'ACTIVE']\n",
    "catsum3.head()"
   ]
  },
  {
   "cell_type": "markdown",
   "metadata": {
    "deletable": true,
    "editable": true
   },
   "source": [
    "Heavy buyers were classified as being in the top 90th percentile or more in total purchases ranging from 2009 year to date."
   ]
  },
  {
   "cell_type": "code",
   "execution_count": null,
   "metadata": {
    "collapsed": true,
    "deletable": true,
    "editable": true
   },
   "outputs": [],
   "source": [
    "catsum4 = catsum3.groupby('acctno')['ytd_sales_2009'].sum().reset_index()\n",
    "print catsum4\n",
    "catsum4['heavy_buyer'] = np.where(catsum4['ytd_sales_2009'] >= (catsum4['ytd_sales_2009'].quantile(0.9)), 'Y','N')\n",
    "catsum4.head(20)"
   ]
  },
  {
   "cell_type": "markdown",
   "metadata": {
    "deletable": true,
    "editable": true
   },
   "source": [
    "In part B, We were to compile whether or not the customer had used specific credit cards such as AMEX, Discover, Visa and Mastercard. If they had used the credit card when making a purchase, their column value was marked with a Y. If they had not, it was marked with an N. A new cc_info dataframe was created to track this information. Parts C, D, E, and F were also included. The genders of Adult1_g and Adult2_g were included, along with the median income (med_inc), the zip code (zip) and zip+4 code of each customer(zip4). The account number (acctno) was included as well so that the tables could be related to each other."
   ]
  },
  {
   "cell_type": "code",
   "execution_count": null,
   "metadata": {
    "collapsed": true,
    "deletable": true,
    "editable": true
   },
   "outputs": [],
   "source": [
    "cc_info = cust_df2[['acctno','amex_reg','amex_prem','disc_reg','disc_prem','visa_reg','visa_prem','mc_reg','mc_prem','med_inc','adult1_g','adult2_g','zip','zip4']]\n",
    "cc_info.head()\n",
    "\n",
    "custsum = pd.merge(catsum4, cc_info, on='acctno')\n",
    "custsum.head()\n",
    "\n",
    "custsum['amex_reg'] = np.where(custsum['amex_reg'] == 'Y', 'Y','N')\n",
    "custsum['amex_prem'] = np.where(custsum['amex_prem'] == 'Y', 'Y','N')\n",
    "custsum['disc_reg'] = np.where(custsum['disc_reg'] == 'Y', 'Y','N')\n",
    "custsum['visa_reg'] = np.where(custsum['visa_reg'] == 'Y', 'Y','N')\n",
    "custsum['visa_prem'] = np.where(custsum['visa_prem'] == 'Y', 'Y','N')\n",
    "custsum['mc_reg'] = np.where(custsum['mc_reg'] == 'Y', 'Y','N')\n",
    "custsum['mc_prem'] = np.where(custsum['mc_prem'] == 'Y', 'Y','N')\n",
    "print custsum"
   ]
  },
  {
   "cell_type": "markdown",
   "metadata": {
    "deletable": true,
    "editable": true
   },
   "source": [
    "In part G, we had to write the table to the database and ensure that it was written correctly"
   ]
  },
  {
   "cell_type": "code",
   "execution_count": null,
   "metadata": {
    "collapsed": true,
    "deletable": true,
    "editable": true
   },
   "outputs": [],
   "source": [
    "custsum.to_sql('Customer_Summary',conn,index=False)\n",
    "engine.table_names()"
   ]
  },
  {
   "cell_type": "markdown",
   "metadata": {
    "deletable": true,
    "editable": true
   },
   "source": [
    "# Part 4\n",
    "In Part 4, we were to create a DataFrame that would be used for target marketing and write out to a headered csv file. For this particular portion, two different dataframes were created by scratch and then merged together to ensure that the information was recorded correctly."
   ]
  },
  {
   "cell_type": "markdown",
   "metadata": {
    "deletable": true,
    "editable": true
   },
   "source": [
    "The first to be merged data frame was the unique account numbers with the sum of each product category."
   ]
  },
  {
   "cell_type": "code",
   "execution_count": null,
   "metadata": {
    "collapsed": true,
    "deletable": true,
    "editable": true
   },
   "outputs": [],
   "source": [
    "a_cust = pd.DataFrame(cust_df.groupby('acctno').buyer_status.unique()).reset_index()\n",
    "a_cust.head(20)\n",
    "\n",
    "item2_df = item_df\n",
    "item2_df.head()\n",
    "\n",
    "c_item = pd.DataFrame(item2_df.groupby('acctno').deptdescr.value_counts())\n",
    "c_item.head()\n",
    "\n",
    "cd_item = pd.DataFrame(c_item.unstack(fill_value='N')).reset_index('acctno')\n",
    "cd_item.head()"
   ]
  },
  {
   "cell_type": "markdown",
   "metadata": {
    "deletable": true,
    "editable": true
   },
   "source": [
    "The second database to merge with the total customer total was created"
   ]
  },
  {
   "cell_type": "code",
   "execution_count": null,
   "metadata": {
    "collapsed": true,
    "deletable": true,
    "editable": true
   },
   "outputs": [],
   "source": [
    "b_item = pd.DataFrame(item_df.groupby('acctno').totamt.sum()).reset_index()\n",
    "b_item.head()"
   ]
  },
  {
   "cell_type": "markdown",
   "metadata": {
    "deletable": true,
    "editable": true
   },
   "source": [
    "The two merge tables along with the master merged table was performed below:"
   ]
  },
  {
   "cell_type": "code",
   "execution_count": null,
   "metadata": {
    "collapsed": true,
    "deletable": true,
    "editable": true
   },
   "outputs": [],
   "source": [
    "#First Merge#\n",
    "d_item = pd.merge(cd_item, a_cust, left_on='acctno',right_on='acctno')\n",
    "d_item.head()\n",
    "#Master merge\n",
    "f_item = pd.merge(d_item, b_item, left_on='acctno',right_on='acctno')"
   ]
  },
  {
   "cell_type": "markdown",
   "metadata": {
    "deletable": true,
    "editable": true
   },
   "source": [
    "The dataframe was then sorted by \"Active\" buyers"
   ]
  },
  {
   "cell_type": "code",
   "execution_count": null,
   "metadata": {
    "collapsed": true,
    "deletable": true,
    "editable": true
   },
   "outputs": [],
   "source": [
    "cust_item = f_item[(f_item.buyer_status=='ACTIVE')]"
   ]
  },
  {
   "cell_type": "markdown",
   "metadata": {
    "deletable": true,
    "editable": true
   },
   "source": [
    "The final data frame was created and then written to a csv file and then the xyz database"
   ]
  },
  {
   "cell_type": "code",
   "execution_count": null,
   "metadata": {
    "collapsed": true,
    "deletable": true,
    "editable": true
   },
   "outputs": [],
   "source": [
    "#Writing to csv#\n",
    "cust_item.to_csv(\"Customer_Item_Detail.csv\",index=False)\n",
    "\n",
    "#Writing to xyz database\n",
    "cust_item.to_sql('Customer_Item_Detail',conn,index=False)\n",
    "engine.table_names()"
   ]
  },
  {
   "cell_type": "markdown",
   "metadata": {
    "deletable": true,
    "editable": true
   },
   "source": [
    "# Part 5\n",
    "Part 5 was split into two separate parts. In the first part we were to find for each gender code for Adult1_g to calculate and report the number of adults with that gender code."
   ]
  },
  {
   "cell_type": "markdown",
   "metadata": {
    "deletable": true,
    "editable": true
   },
   "source": [
    "Part 5 was set up by creating a dataframe that would suit our needs. Pre-sorted for active buyers, the second customer data frame was used from part 2. The item dataframe was merged with it to get the necessary information."
   ]
  },
  {
   "cell_type": "code",
   "execution_count": null,
   "metadata": {
    "collapsed": true,
    "deletable": true,
    "editable": true
   },
   "outputs": [],
   "source": [
    "freq_p = cust_df2.merge(item_df)\n",
    "freq_p.head()\n",
    "\n",
    "freq_p2 = freq_p[['acctno','adult1_g','totamt','qty','deptdescr']]\n",
    "freq_p2.head()"
   ]
  },
  {
   "cell_type": "markdown",
   "metadata": {
    "deletable": true,
    "editable": true
   },
   "source": [
    "The number of adults with specific gender codes was created for Part 1 of Part 5 below:"
   ]
  },
  {
   "cell_type": "code",
   "execution_count": null,
   "metadata": {
    "collapsed": true,
    "deletable": true,
    "editable": true
   },
   "outputs": [],
   "source": [
    "check2 = freq_p2.groupby('adult1_g').adult1_g.count()\n",
    "check2"
   ]
  },
  {
   "cell_type": "markdown",
   "metadata": {
    "deletable": true,
    "editable": true
   },
   "source": [
    "In Part 2A of Part 5, we were to use the active customer's data to find the top 6 most ordered purchased product categories."
   ]
  },
  {
   "cell_type": "code",
   "execution_count": null,
   "metadata": {
    "collapsed": true,
    "deletable": true,
    "editable": true
   },
   "outputs": [],
   "source": [
    "check3 = freq_p2.groupby('deptdescr').deptdescr.value_counts()\n",
    "check3"
   ]
  },
  {
   "cell_type": "markdown",
   "metadata": {
    "deletable": true,
    "editable": true
   },
   "source": [
    "Then, for each of the purchased product categories, the total spent, and the total numnber of products purchased was calculated."
   ]
  },
  {
   "cell_type": "code",
   "execution_count": null,
   "metadata": {
    "collapsed": true,
    "deletable": true,
    "editable": true
   },
   "outputs": [],
   "source": [
    "freq_p2.groupby(by=['adult1_g','deptdescr'])['qty','totamt'].sum()"
   ]
  },
  {
   "cell_type": "markdown",
   "metadata": {
    "deletable": true,
    "editable": true
   },
   "source": [
    "For Part 2B of part 5, we were to calculate the 6 most common product ordered by gender."
   ]
  },
  {
   "cell_type": "code",
   "execution_count": null,
   "metadata": {
    "collapsed": true,
    "deletable": true,
    "editable": true
   },
   "outputs": [],
   "source": [
    "check = freq_p2.groupby('adult1_g').deptdescr.value_counts()\n",
    "check\n",
    "check.groupby(level='adult1_g',group_keys=False).nlargest(6)"
   ]
  }
 ],
 "metadata": {
  "kernelspec": {
   "display_name": "Python 2",
   "language": "python",
   "name": "python2"
  },
  "language_info": {
   "codemirror_mode": {
    "name": "ipython",
    "version": 2
   },
   "file_extension": ".py",
   "mimetype": "text/x-python",
   "name": "python",
   "nbconvert_exporter": "python",
   "pygments_lexer": "ipython2",
   "version": "2.7.11"
  }
 },
 "nbformat": 4,
 "nbformat_minor": 2
}
