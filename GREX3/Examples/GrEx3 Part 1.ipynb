{
 "cells": [
  {
   "cell_type": "markdown",
   "metadata": {
    "deletable": true,
    "editable": true
   },
   "source": [
    "In GrEx3 you are required to write a loop to \"process\" 26 json files (in a directorty). Below I show how to write a loop to create a list of dictories, oner per json. You can use this template to process the 26 json file where instead of creating a list dictionaries you create the list of DataFreams you need to concatenate together to get the DataFrame for part 1."
   ]
  },
  {
   "cell_type": "code",
   "execution_count": 1,
   "metadata": {
    "collapsed": true,
    "deletable": true,
    "editable": true
   },
   "outputs": [],
   "source": [
    "import json\n",
    "import os\n",
    "import pandas as pd\n",
    "from pandas.io.json import json_normalize"
   ]
  },
  {
   "cell_type": "code",
   "execution_count": 2,
   "metadata": {
    "collapsed": false,
    "deletable": true,
    "editable": true
   },
   "outputs": [
    {
     "data": {
      "text/plain": [
       "['.DS_Store',\n",
       " '.ipynb_checkpoints',\n",
       " 'company1.json',\n",
       " 'company2.json',\n",
       " 'Examples',\n",
       " 'Examples-1.zip',\n",
       " 'GrEx3 Introduction (Part I).pdf',\n",
       " 'GrEx3 Part 1.html',\n",
       " 'GrEx3 Part 1.ipynb']"
      ]
     },
     "execution_count": 2,
     "metadata": {},
     "output_type": "execute_result"
    }
   ],
   "source": [
    "# https://www.tutorialspoint.com/python/os_listdir.htm\n",
    "# get list of files in current directory, i.e. path = '.'\n",
    "file_list = os.listdir('.') \n",
    "file_list"
   ]
  },
  {
   "cell_type": "code",
   "execution_count": 3,
   "metadata": {
    "collapsed": true,
    "deletable": true,
    "editable": true
   },
   "outputs": [],
   "source": [
    "company_list=[]\n",
    "for file in file_list:\n",
    "    if file.endswith('.json'):\n",
    "        # Equivalent to the following:\n",
    "        # input_file = open(file)\n",
    "        # jsondat = json.load(input_file)\n",
    "        # input_file.close()\n",
    "        with open(file) as input_file:\n",
    "            jsondat = json.load(input_file)\n",
    "            company_list.append(jsondat)"
   ]
  },
  {
   "cell_type": "markdown",
   "metadata": {
    "deletable": true,
    "editable": true
   },
   "source": [
    "Let us display each dictionary in turn"
   ]
  },
  {
   "cell_type": "code",
   "execution_count": 4,
   "metadata": {
    "collapsed": false,
    "deletable": true,
    "editable": true
   },
   "outputs": [
    {
     "data": {
      "text/plain": [
       "{u'cars': [{u'make': u'Toyota',\n",
       "   u'mileage': {u'mpg(city)': 48, u'mpg(hwy)': 43},\n",
       "   u'model': u'Prius C',\n",
       "   u'year': 2017},\n",
       "  {u'make': u'Pontiac',\n",
       "   u'mileage': {u'mpg(city)': 16, u'mpg(hwy)': 26},\n",
       "   u'model': u'Bonneville',\n",
       "   u'year': 1997},\n",
       "  {u'make': u'Maserati',\n",
       "   u'mileage': {u'mpg(city)': 10, u'mpg(hwy)': 16},\n",
       "   u'model': u'Spider',\n",
       "   u'year': 2014}],\n",
       " u'dealer': {u'address': u'<address class=\"addressReset\"> <span rel=\"v:address\"> <span dir=\"ltr\"><span class=\"street-address\" property=\"v:street-address\">77 Industry Way</span>, <span class=\"locality\"><span property=\"v:locality\">Atlanta</span>, <span property=\"v:region\">GA</span> <span property=\"v:postal-code\">30301-2530</span></span> </span> </span> </address>',\n",
       "  u'name': u'Buy Here, Buy Now'}}"
      ]
     },
     "execution_count": 4,
     "metadata": {},
     "output_type": "execute_result"
    }
   ],
   "source": [
    "company_list[0]"
   ]
  },
  {
   "cell_type": "code",
   "execution_count": 5,
   "metadata": {
    "collapsed": false,
    "deletable": true,
    "editable": true
   },
   "outputs": [
    {
     "data": {
      "text/plain": [
       "{'cars': [{'make': 'Volkswagen',\n",
       "   'mileage': {'mpg(city)': 21, 'mpg(hwy)': 31},\n",
       "   'model': 'Eos',\n",
       "   'year': 2017},\n",
       "  {'make': 'Chrysler',\n",
       "   'mileage': {'mpg(city)': 18, 'mpg(hwy)': 25},\n",
       "   'model': 'Sebring',\n",
       "   'year': 1997}],\n",
       " 'dealer': {'address': '<address class=\"addressReset\"> <span rel=\"v:address\"> <span dir=\"ltr\"><span class=\"street-address\" property=\"v:street-address\">123 Main Street</span>, <span class=\"locality\"><span property=\"v:locality\">Seattle</span>, <span property=\"v:region\">WA</span> <span property=\"v:postal-code\">11111-1234</span></span> </span> </span> </address>',\n",
       "  'name': 'Cars R Us'}}"
      ]
     },
     "execution_count": 5,
     "metadata": {},
     "output_type": "execute_result"
    }
   ],
   "source": [
    "company_list[1]"
   ]
  },
  {
   "cell_type": "markdown",
   "metadata": {
    "deletable": true,
    "editable": true
   },
   "source": [
    "Let us just work with the first company here. Again, some of what I do below you would be doing in the body of loop used to read the json files. First, let us ket the keys.."
   ]
  },
  {
   "cell_type": "code",
   "execution_count": 6,
   "metadata": {
    "collapsed": false,
    "deletable": true,
    "editable": true
   },
   "outputs": [
    {
     "data": {
      "text/plain": [
       "dict_keys(['dealer', 'cars'])"
      ]
     },
     "execution_count": 6,
     "metadata": {},
     "output_type": "execute_result"
    }
   ],
   "source": [
    "jsondat = company_list[0]\n",
    "jsondat.keys()"
   ]
  },
  {
   "cell_type": "markdown",
   "metadata": {
    "deletable": true,
    "editable": true
   },
   "source": [
    "We save the values associated with each key separately..."
   ]
  },
  {
   "cell_type": "code",
   "execution_count": 7,
   "metadata": {
    "collapsed": false,
    "deletable": true,
    "editable": true
   },
   "outputs": [
    {
     "data": {
      "text/plain": [
       "{'address': '<address class=\"addressReset\"> <span rel=\"v:address\"> <span dir=\"ltr\"><span class=\"street-address\" property=\"v:street-address\">77 Industry Way</span>, <span class=\"locality\"><span property=\"v:locality\">Atlanta</span>, <span property=\"v:region\">GA</span> <span property=\"v:postal-code\">30301-2530</span></span> </span> </span> </address>',\n",
       " 'name': 'Buy Here, Buy Now'}"
      ]
     },
     "execution_count": 7,
     "metadata": {},
     "output_type": "execute_result"
    }
   ],
   "source": [
    "dealer_info = jsondat['dealer']\n",
    "dealer_info"
   ]
  },
  {
   "cell_type": "code",
   "execution_count": 8,
   "metadata": {
    "collapsed": false,
    "deletable": true,
    "editable": true
   },
   "outputs": [
    {
     "data": {
      "text/plain": [
       "[{'make': 'Toyota',\n",
       "  'mileage': {'mpg(city)': 48, 'mpg(hwy)': 43},\n",
       "  'model': 'Prius C',\n",
       "  'year': 2017},\n",
       " {'make': 'Pontiac',\n",
       "  'mileage': {'mpg(city)': 16, 'mpg(hwy)': 26},\n",
       "  'model': 'Bonneville',\n",
       "  'year': 1997},\n",
       " {'make': 'Maserati',\n",
       "  'mileage': {'mpg(city)': 10, 'mpg(hwy)': 16},\n",
       "  'model': 'Spider',\n",
       "  'year': 2014}]"
      ]
     },
     "execution_count": 8,
     "metadata": {},
     "output_type": "execute_result"
    }
   ],
   "source": [
    "cars_info = jsondat['cars']\n",
    "cars_info"
   ]
  },
  {
   "cell_type": "markdown",
   "metadata": {
    "deletable": true,
    "editable": true
   },
   "source": [
    "Now we create DataFrames out of dealer_info and cars_info."
   ]
  },
  {
   "cell_type": "code",
   "execution_count": 9,
   "metadata": {
    "collapsed": false,
    "deletable": true,
    "editable": true
   },
   "outputs": [
    {
     "data": {
      "text/html": [
       "<div>\n",
       "<table border=\"1\" class=\"dataframe\">\n",
       "  <thead>\n",
       "    <tr style=\"text-align: right;\">\n",
       "      <th></th>\n",
       "      <th>make</th>\n",
       "      <th>mileage</th>\n",
       "      <th>model</th>\n",
       "      <th>year</th>\n",
       "    </tr>\n",
       "  </thead>\n",
       "  <tbody>\n",
       "    <tr>\n",
       "      <th>0</th>\n",
       "      <td>Toyota</td>\n",
       "      <td>{'mpg(city)': 48, 'mpg(hwy)': 43}</td>\n",
       "      <td>Prius C</td>\n",
       "      <td>2017</td>\n",
       "    </tr>\n",
       "    <tr>\n",
       "      <th>1</th>\n",
       "      <td>Pontiac</td>\n",
       "      <td>{'mpg(city)': 16, 'mpg(hwy)': 26}</td>\n",
       "      <td>Bonneville</td>\n",
       "      <td>1997</td>\n",
       "    </tr>\n",
       "    <tr>\n",
       "      <th>2</th>\n",
       "      <td>Maserati</td>\n",
       "      <td>{'mpg(city)': 10, 'mpg(hwy)': 16}</td>\n",
       "      <td>Spider</td>\n",
       "      <td>2014</td>\n",
       "    </tr>\n",
       "  </tbody>\n",
       "</table>\n",
       "</div>"
      ],
      "text/plain": [
       "       make                            mileage       model  year\n",
       "0    Toyota  {'mpg(city)': 48, 'mpg(hwy)': 43}     Prius C  2017\n",
       "1   Pontiac  {'mpg(city)': 16, 'mpg(hwy)': 26}  Bonneville  1997\n",
       "2  Maserati  {'mpg(city)': 10, 'mpg(hwy)': 16}      Spider  2014"
      ]
     },
     "execution_count": 9,
     "metadata": {},
     "output_type": "execute_result"
    }
   ],
   "source": [
    "cars_df = pd.DataFrame(cars_info)\n",
    "cars_df"
   ]
  },
  {
   "cell_type": "markdown",
   "metadata": {
    "deletable": true,
    "editable": true
   },
   "source": [
    "Note that we have a problem here. Observer the nested structure of each dictionary in car_info. Fortunately, json_normalize comes to the rescue. "
   ]
  },
  {
   "cell_type": "code",
   "execution_count": 10,
   "metadata": {
    "collapsed": false,
    "deletable": true,
    "editable": true
   },
   "outputs": [
    {
     "data": {
      "text/html": [
       "<div>\n",
       "<table border=\"1\" class=\"dataframe\">\n",
       "  <thead>\n",
       "    <tr style=\"text-align: right;\">\n",
       "      <th></th>\n",
       "      <th>make</th>\n",
       "      <th>mileage.mpg(city)</th>\n",
       "      <th>mileage.mpg(hwy)</th>\n",
       "      <th>model</th>\n",
       "      <th>year</th>\n",
       "    </tr>\n",
       "  </thead>\n",
       "  <tbody>\n",
       "    <tr>\n",
       "      <th>0</th>\n",
       "      <td>Toyota</td>\n",
       "      <td>48</td>\n",
       "      <td>43</td>\n",
       "      <td>Prius C</td>\n",
       "      <td>2017</td>\n",
       "    </tr>\n",
       "    <tr>\n",
       "      <th>1</th>\n",
       "      <td>Pontiac</td>\n",
       "      <td>16</td>\n",
       "      <td>26</td>\n",
       "      <td>Bonneville</td>\n",
       "      <td>1997</td>\n",
       "    </tr>\n",
       "    <tr>\n",
       "      <th>2</th>\n",
       "      <td>Maserati</td>\n",
       "      <td>10</td>\n",
       "      <td>16</td>\n",
       "      <td>Spider</td>\n",
       "      <td>2014</td>\n",
       "    </tr>\n",
       "  </tbody>\n",
       "</table>\n",
       "</div>"
      ],
      "text/plain": [
       "       make  mileage.mpg(city)  mileage.mpg(hwy)       model  year\n",
       "0    Toyota                 48                43     Prius C  2017\n",
       "1   Pontiac                 16                26  Bonneville  1997\n",
       "2  Maserati                 10                16      Spider  2014"
      ]
     },
     "execution_count": 10,
     "metadata": {},
     "output_type": "execute_result"
    }
   ],
   "source": [
    "cars_df = json_normalize(cars_info)\n",
    "cars_df"
   ]
  },
  {
   "cell_type": "markdown",
   "metadata": {
    "deletable": true,
    "editable": true
   },
   "source": [
    "That's better. Now for dealer_info..."
   ]
  },
  {
   "cell_type": "code",
   "execution_count": 11,
   "metadata": {
    "collapsed": false,
    "deletable": true,
    "editable": true
   },
   "outputs": [
    {
     "data": {
      "text/html": [
       "<div>\n",
       "<table border=\"1\" class=\"dataframe\">\n",
       "  <thead>\n",
       "    <tr style=\"text-align: right;\">\n",
       "      <th></th>\n",
       "      <th>address</th>\n",
       "      <th>name</th>\n",
       "    </tr>\n",
       "  </thead>\n",
       "  <tbody>\n",
       "    <tr>\n",
       "      <th>0</th>\n",
       "      <td>&lt;address class=\"addressReset\"&gt; &lt;span rel=\"v:ad...</td>\n",
       "      <td>Buy Here, Buy Now</td>\n",
       "    </tr>\n",
       "  </tbody>\n",
       "</table>\n",
       "</div>"
      ],
      "text/plain": [
       "                                             address               name\n",
       "0  <address class=\"addressReset\"> <span rel=\"v:ad...  Buy Here, Buy Now"
      ]
     },
     "execution_count": 11,
     "metadata": {},
     "output_type": "execute_result"
    }
   ],
   "source": [
    "dealer_df = json_normalize(dealer_info)\n",
    "dealer_df"
   ]
  },
  {
   "cell_type": "markdown",
   "metadata": {
    "deletable": true,
    "editable": true
   },
   "source": [
    "Did you notice the address in dealer_info has html tags. Let's fix the problem using BeautifulSoup."
   ]
  },
  {
   "cell_type": "code",
   "execution_count": 14,
   "metadata": {
    "collapsed": true,
    "deletable": true,
    "editable": true
   },
   "outputs": [],
   "source": [
    "#https://www.crummy.com/software/BeautifulSoup/\n",
    "from bs4 import BeautifulSoup   #First install beautifulsoup4 using Canopy Package Manager\n",
    "soup = BeautifulSoup(dealer_info['address'], 'html.parser')  # create a BeautifulSoup object out of the address string"
   ]
  },
  {
   "cell_type": "code",
   "execution_count": 15,
   "metadata": {
    "collapsed": false,
    "deletable": true,
    "editable": true
   },
   "outputs": [
    {
     "data": {
      "text/plain": [
       "{'address': '77 Industry Way, Atlanta, GA 30301-2530',\n",
       " 'name': 'Buy Here, Buy Now'}"
      ]
     },
     "execution_count": 15,
     "metadata": {},
     "output_type": "execute_result"
    }
   ],
   "source": [
    "clean_address = soup.get_text().strip()    # get text and strip it of enclosing white space\n",
    "dealer_info['address'] = clean_address     # save the clean address to the deal_info\n",
    "dealer_info"
   ]
  },
  {
   "cell_type": "code",
   "execution_count": 16,
   "metadata": {
    "collapsed": false,
    "deletable": true,
    "editable": true
   },
   "outputs": [
    {
     "data": {
      "text/html": [
       "<div>\n",
       "<table border=\"1\" class=\"dataframe\">\n",
       "  <thead>\n",
       "    <tr style=\"text-align: right;\">\n",
       "      <th></th>\n",
       "      <th>address</th>\n",
       "      <th>name</th>\n",
       "    </tr>\n",
       "  </thead>\n",
       "  <tbody>\n",
       "    <tr>\n",
       "      <th>0</th>\n",
       "      <td>77 Industry Way, Atlanta, GA 30301-2530</td>\n",
       "      <td>Buy Here, Buy Now</td>\n",
       "    </tr>\n",
       "  </tbody>\n",
       "</table>\n",
       "</div>"
      ],
      "text/plain": [
       "                                   address               name\n",
       "0  77 Industry Way, Atlanta, GA 30301-2530  Buy Here, Buy Now"
      ]
     },
     "execution_count": 16,
     "metadata": {},
     "output_type": "execute_result"
    }
   ],
   "source": [
    "dealer_df = json_normalize(dealer_info)   # create a DataFrame from the new dealer_info\n",
    "dealer_df"
   ]
  },
  {
   "cell_type": "code",
   "execution_count": 17,
   "metadata": {
    "collapsed": true,
    "deletable": true,
    "editable": true
   },
   "outputs": [],
   "source": [
    "# company1= {\n",
    "#  'dealer':{'name':'Buy Here, Buy Now', 'address':'<address class=\"addressReset\"> <span rel=\"v:address\"> <span dir=\"ltr\"><span class=\"street-address\" property=\"v:street-address\">77 Yesler Way</span>, <span class=\"locality\"><span property=\"v:locality\">Seattle</span>, <span property=\"v:region\">WA</span> <span property=\"v:postal-code\">98104-2530</span></span> </span> </span> </address>'},\n",
    "#  'cars': [\n",
    "#     {\"make\":\"Toyota\", \"model\": \"Prius C\", \"year\":2017, \"mileage\":{'mpg (city)': 48, 'mpg (hwy)': 43}},\n",
    "#     {\"make\":\"Pontiac\", \"model\": \"Bonneville\", \"year\":1997, \"mileage\":{'mpg (city)': 16, 'mpg (hwy)': 26}},\n",
    "#     {\"make\":\"Maserati\", \"model\": \"Spider\", \"year\":2014, \"mileage\":{'mpg (city)': 10, 'mpg( hwy)': 16}}\n",
    "#     ]\n",
    "#  }"
   ]
  },
  {
   "cell_type": "code",
   "execution_count": 18,
   "metadata": {
    "collapsed": true,
    "deletable": true,
    "editable": true
   },
   "outputs": [],
   "source": [
    "# company2={'cars': [{'make': 'Volkswagen',\n",
    "#    'mileage': {'mpg(city)': 21, 'mpg(hwy)': 31},\n",
    "#    'model': 'Eos',\n",
    "#    'year': 2017},\n",
    "#   {'make': 'Chrysler',\n",
    "#    'mileage': {'mpg(city)': 18, 'mpg(hwy)': 25},\n",
    "#    'model': 'Sebring',\n",
    "#    'year': 1997}],\n",
    "#  'dealer': {'address': '<address class=\"addressReset\"> <span rel=\"v:address\"> <span dir=\"ltr\"><span class=\"street-address\" property=\"v:street-address\">123 Main Street</span>, <span class=\"locality\"><span property=\"v:locality\">Seattle</span>, <span property=\"v:region\">WA</span> <span property=\"v:postal-code\">11111-1234</span></span> </span> </span> </address>',\n",
    "#   'name': 'Cars R Us'}}"
   ]
  },
  {
   "cell_type": "code",
   "execution_count": 19,
   "metadata": {
    "collapsed": true,
    "deletable": true,
    "editable": true
   },
   "outputs": [],
   "source": [
    "# import json\n",
    "# with open('company2.json', 'w') as fp:\n",
    "#     json.dump(company2, fp)"
   ]
  }
 ],
 "metadata": {
  "kernelspec": {
   "display_name": "Python 2",
   "language": "python",
   "name": "python2"
  },
  "language_info": {
   "codemirror_mode": {
    "name": "ipython",
    "version": 2
   },
   "file_extension": ".py",
   "mimetype": "text/x-python",
   "name": "python",
   "nbconvert_exporter": "python",
   "pygments_lexer": "ipython2",
   "version": "2.7.11"
  }
 },
 "nbformat": 4,
 "nbformat_minor": 2
}
