{
 "cells": [
  {
   "cell_type": "markdown",
   "metadata": {
    "deletable": true,
    "editable": true
   },
   "source": [
    "For GrEx1 you are given 3 data files: a `csv` file and two `Excel` files. You want to want to use the appropriate \"reader\" methods from the pandas module in Python to read the data in these files into DataFrame objects. A _DataFrame_ is tabular spreadsheet-like data structure defined in the pandas module that comes with a plethora of methods for data transformation and analysis. We are going to be doing quite a bit of work with the pandas module in the coming weeks.\n",
    "\n",
    "In the following cells we will demonstrate the use of the pandas Excel and csv readers and pandas methods for exploring the resulting DataFrames. In particular, we show how to *select columns* from DataFrame objects to create new DataFrame objects and how to _concatenate_ DataFrame objects to create new DataFrame objects. We come full circle at the end by _writing_ a DataFrame to a csv file. These techniques will be needed for Part 1 of *GrEx 1*. "
   ]
  },
  {
   "cell_type": "markdown",
   "metadata": {
    "deletable": true,
    "editable": true
   },
   "source": [
    "*References*\n",
    "* https://pandas.pydata.org/pandas-docs/stable/io.html\n",
    "\n",
    "* https://pandas.pydata.org/pandas-docs/stable/io.html#io-read-csv-table\n",
    "\n",
    "* https://pandas.pydata.org/pandas-docs/stable/io.html#io-excel-reader\n",
    "\n",
    "* http://pythonhow.com/data-analysis-with-python-pandas/\n",
    "\n",
    "* http://www.gregreda.com/2013/10/26/intro-to-pandas-data-structures/\n",
    "\n",
    "* https://pandas.pydata.org/pandas-docs/stable/10min.html\n"
   ]
  },
  {
   "cell_type": "markdown",
   "metadata": {
    "deletable": true,
    "editable": true
   },
   "source": [
    "First we use the `pwd` command to determine what my current working directory. You can change your working directory but I will not be demonstrating that here."
   ]
  },
  {
   "cell_type": "code",
   "execution_count": null,
   "metadata": {
    "collapsed": false,
    "deletable": true,
    "editable": true
   },
   "outputs": [],
   "source": [
    "pwd"
   ]
  },
  {
   "cell_type": "markdown",
   "metadata": {
    "deletable": true,
    "editable": true
   },
   "source": [
    "Now we determine the contents of the current directory. Note that I am running this on a Mac. On Windows the _ls_ command might dispaly more information than just the names of the files in the current directory..."
   ]
  },
  {
   "cell_type": "code",
   "execution_count": null,
   "metadata": {
    "collapsed": false,
    "deletable": true,
    "editable": true,
    "scrolled": true
   },
   "outputs": [],
   "source": [
    "ls"
   ]
  },
  {
   "cell_type": "markdown",
   "metadata": {
    "deletable": true,
    "editable": true
   },
   "source": [
    "Import the pandas module and assign it the alias _pd_. "
   ]
  },
  {
   "cell_type": "code",
   "execution_count": null,
   "metadata": {
    "collapsed": true,
    "deletable": true,
    "editable": true
   },
   "outputs": [],
   "source": [
    "import pandas as pd"
   ]
  },
  {
   "cell_type": "markdown",
   "metadata": {
    "deletable": true,
    "editable": true
   },
   "source": [
    "The pandas method `read_csv` is used to create DataFrame from the data in the `titanic.csv` file.\n",
    "This DataFrame object is assigned to the variable `titanic_pass_csv_df`. Note the we specify the whole path to the file, which is not strictly necessary since the file reasides in the current directory."
   ]
  },
  {
   "cell_type": "code",
   "execution_count": null,
   "metadata": {
    "collapsed": false,
    "deletable": true,
    "editable": true
   },
   "outputs": [],
   "source": [
    "# If you trying this at home you will have to change the path or, as I do below (In [11]), remove it.\n",
    "titanic_pass_csv_df = pd.read_csv('/Users/EdwardArroyo/Examples/titanic.csv')"
   ]
  },
  {
   "cell_type": "markdown",
   "metadata": {
    "deletable": true,
    "editable": true
   },
   "source": [
    "Next we verify that `titanic_pass_csv_df` is a DataFrame. We do this mainly to show off the `type` method."
   ]
  },
  {
   "cell_type": "code",
   "execution_count": null,
   "metadata": {
    "collapsed": false,
    "deletable": true,
    "editable": true
   },
   "outputs": [],
   "source": [
    "type(titanic_pass_csv_df)"
   ]
  },
  {
   "cell_type": "code",
   "execution_count": null,
   "metadata": {
    "collapsed": false,
    "deletable": true,
    "editable": true
   },
   "outputs": [],
   "source": [
    "titanic_pass_csv_df.shape   #returns the numbers of rows and columns as a tuple"
   ]
  },
  {
   "cell_type": "code",
   "execution_count": null,
   "metadata": {
    "collapsed": false,
    "deletable": true,
    "editable": true
   },
   "outputs": [],
   "source": [
    "titanic_pass_csv_df.columns   #list the columns (as an Index object)"
   ]
  },
  {
   "cell_type": "code",
   "execution_count": null,
   "metadata": {
    "collapsed": false,
    "deletable": true,
    "editable": true
   },
   "outputs": [],
   "source": [
    "titanic_pass_csv_df.head()    # display the first five records in titanic_pass_csv_df."
   ]
  },
  {
   "cell_type": "markdown",
   "metadata": {
    "deletable": true,
    "editable": true
   },
   "source": [
    "Next we show how to select just one column, `Age`, frome the DataFrame but we display just the first 3 records of the DataFrame this time."
   ]
  },
  {
   "cell_type": "code",
   "execution_count": null,
   "metadata": {
    "collapsed": false,
    "deletable": true,
    "editable": true
   },
   "outputs": [],
   "source": [
    "titanic_pass_csv_df.Age.head(3)"
   ]
  },
  {
   "cell_type": "markdown",
   "metadata": {
    "deletable": true,
    "editable": true
   },
   "source": [
    "Note that the `Age` column in `titanic_pass_csv_df` is a pandas `Series`, the one-dimensional counterpart of a `DataFrame`."
   ]
  },
  {
   "cell_type": "code",
   "execution_count": null,
   "metadata": {
    "collapsed": false,
    "deletable": true,
    "editable": true
   },
   "outputs": [],
   "source": [
    "type(titanic_pass_csv_df.Age)"
   ]
  },
  {
   "cell_type": "markdown",
   "metadata": {
    "deletable": true,
    "editable": true
   },
   "source": [
    "Here is an aside in which I show how to create an `ExcelFile` object in order to have it display its sheet names. This time let us leave out the path, i.e. just pass the file name."
   ]
  },
  {
   "cell_type": "code",
   "execution_count": null,
   "metadata": {
    "collapsed": false,
    "deletable": true,
    "editable": true
   },
   "outputs": [],
   "source": [
    "titanic_xlfile=pd.ExcelFile('titanic_data_partitioned.xlsx')\n",
    "titanic_xlfile.sheet_names"
   ]
  },
  {
   "cell_type": "markdown",
   "metadata": {
    "deletable": true,
    "editable": true
   },
   "source": [
    "But we really just want create a DataFrame from the file data. We can pass the filename to `read_excel` (though passing the ExcelFile `titanic_xlfile` would work just as well)."
   ]
  },
  {
   "cell_type": "code",
   "execution_count": null,
   "metadata": {
    "collapsed": false,
    "deletable": true,
    "editable": true
   },
   "outputs": [],
   "source": [
    "# titanic_df1=pd.read_excel(titanic_xlfile, 'data 1')\n",
    "titanic_df1=pd.read_excel('titanic_data_partitioned.xlsx', 'data 1')"
   ]
  },
  {
   "cell_type": "code",
   "execution_count": null,
   "metadata": {
    "collapsed": true,
    "deletable": true,
    "editable": true
   },
   "outputs": [],
   "source": [
    "titanic_df2=pd.read_excel('titanic_data_partitioned.xlsx', 'data 2')"
   ]
  },
  {
   "cell_type": "code",
   "execution_count": null,
   "metadata": {
    "collapsed": false,
    "deletable": true,
    "editable": true
   },
   "outputs": [],
   "source": [
    "titanic_df1.shape"
   ]
  },
  {
   "cell_type": "code",
   "execution_count": null,
   "metadata": {
    "collapsed": false,
    "deletable": true,
    "editable": true
   },
   "outputs": [],
   "source": [
    "titanic_df1.columns"
   ]
  },
  {
   "cell_type": "markdown",
   "metadata": {
    "deletable": true,
    "editable": true
   },
   "source": [
    "Let us get the data type of each column. Note that the general `object` type denotes columns that contain strings (of characters). It is also used to indicate `mixed` types of values."
   ]
  },
  {
   "cell_type": "code",
   "execution_count": null,
   "metadata": {
    "collapsed": false,
    "deletable": true,
    "editable": true
   },
   "outputs": [],
   "source": [
    "titanic_df1.dtypes"
   ]
  },
  {
   "cell_type": "code",
   "execution_count": null,
   "metadata": {
    "collapsed": false,
    "deletable": true,
    "editable": true
   },
   "outputs": [],
   "source": [
    "titanic_df2.shape"
   ]
  },
  {
   "cell_type": "code",
   "execution_count": null,
   "metadata": {
    "collapsed": false,
    "deletable": true,
    "editable": true
   },
   "outputs": [],
   "source": [
    "titanic_df2.columns"
   ]
  },
  {
   "cell_type": "markdown",
   "metadata": {
    "deletable": true,
    "editable": true
   },
   "source": [
    "This time let's display the _last_ four records of a DataFrame. Note leaving out a number is equivalent to passing a 5. The same applies to `head( )`."
   ]
  },
  {
   "cell_type": "code",
   "execution_count": null,
   "metadata": {
    "collapsed": false,
    "deletable": true,
    "editable": true
   },
   "outputs": [],
   "source": [
    "titanic_df1.head()"
   ]
  },
  {
   "cell_type": "code",
   "execution_count": null,
   "metadata": {
    "collapsed": false,
    "deletable": true,
    "editable": true
   },
   "outputs": [],
   "source": [
    "titanic_df2.tail(3)"
   ]
  },
  {
   "cell_type": "markdown",
   "metadata": {
    "deletable": true,
    "editable": true
   },
   "source": [
    "You also need to be able to *rename* columns in a DataFrame. Of course, changing the column names in a file directly is always an option. But let us practice doing it using the rename method.\n",
    "\n",
    "\n",
    "Here `inplace=True` assures that `rename` changes `titanic_df1` instead of returning a new altered DataFrame as a `copy`."
   ]
  },
  {
   "cell_type": "code",
   "execution_count": null,
   "metadata": {
    "collapsed": false,
    "deletable": true,
    "editable": true
   },
   "outputs": [],
   "source": [
    "titanic_df1.rename(columns={'Name':'NAME','Sex':'SEX','Age':'AGE'}, inplace=True)\n",
    "#titanic_df2.rename(columns={'PassengerID':'ID'}, inplace=True)"
   ]
  },
  {
   "cell_type": "code",
   "execution_count": null,
   "metadata": {
    "collapsed": false,
    "deletable": true,
    "editable": true
   },
   "outputs": [],
   "source": [
    "# alternate to using inplace=True\n",
    "titanic_df2 = titanic_df2.rename(columns={'PassengerID':'ID'})"
   ]
  },
  {
   "cell_type": "code",
   "execution_count": null,
   "metadata": {
    "collapsed": false,
    "deletable": true,
    "editable": true
   },
   "outputs": [],
   "source": [
    "titanic_df1.columns"
   ]
  },
  {
   "cell_type": "code",
   "execution_count": null,
   "metadata": {
    "collapsed": false,
    "deletable": true,
    "editable": true
   },
   "outputs": [],
   "source": [
    "titanic_df2.columns"
   ]
  },
  {
   "cell_type": "markdown",
   "metadata": {
    "deletable": true,
    "editable": true
   },
   "source": [
    "Below we select a subset of columns of `titanic_df1` by passing a list of columns."
   ]
  },
  {
   "cell_type": "code",
   "execution_count": null,
   "metadata": {
    "collapsed": false,
    "deletable": true,
    "editable": true
   },
   "outputs": [],
   "source": [
    "titanic_pass_info1 = titanic_df1[['ID','SEX','AGE']]\n",
    "titanic_pass_info1.head()"
   ]
  },
  {
   "cell_type": "markdown",
   "metadata": {
    "deletable": true,
    "editable": true
   },
   "source": [
    "In the first part of the assignment, you also need to be able to insert `constant` columns."
   ]
  },
  {
   "cell_type": "code",
   "execution_count": null,
   "metadata": {
    "collapsed": false,
    "deletable": true,
    "editable": true
   },
   "outputs": [],
   "source": [
    "titanic_pass_info1 = titanic_pass_info1.assign(PAGE=1)\n",
    "titanic_pass_info1.head(6)"
   ]
  },
  {
   "cell_type": "markdown",
   "metadata": {
    "deletable": true,
    "editable": true
   },
   "source": [
    "Now let us start getting some information about the data in a particular column of the DataFrame. For example, let us see how many unique ID's there are..."
   ]
  },
  {
   "cell_type": "code",
   "execution_count": null,
   "metadata": {
    "collapsed": false,
    "deletable": true,
    "editable": true
   },
   "outputs": [],
   "source": [
    "titanic_pass_info1.ID.nunique()"
   ]
  },
  {
   "cell_type": "markdown",
   "metadata": {
    "deletable": true,
    "editable": true
   },
   "source": [
    "That is equal to the number of records. So they must all be different. Let us count the number of entries that are not `null`. Missing (i.e. `null`) values are indicated using the numerical value: `nan` (which stands for *Not a Number*). The `sum()` part requires an explanation. Essentially, `notnull()` returns a column of truth values with `False` denoting an `nan` value in the corresponding row of `titanic_pass_info1`. \n",
    "\n",
    "The `sum()` method returns the number of True values, i.e. the number of non-null values. When truth values are summed `True` represents 1 and `False` represents 0. So the sum is just the number of `True` values."
   ]
  },
  {
   "cell_type": "code",
   "execution_count": null,
   "metadata": {
    "collapsed": false,
    "deletable": true,
    "editable": true
   },
   "outputs": [],
   "source": [
    "titanic_pass_info1.notnull().sum()"
   ]
  },
  {
   "cell_type": "markdown",
   "metadata": {
    "deletable": true,
    "editable": true
   },
   "source": [
    "We can select the AGE column using `titanic_pass_info1.AGE` or `titanic_pass_info1['AGE']`."
   ]
  },
  {
   "cell_type": "code",
   "execution_count": null,
   "metadata": {
    "collapsed": false,
    "deletable": true,
    "editable": true
   },
   "outputs": [],
   "source": [
    "titanic_pass_info1.AGE.head(6)"
   ]
  },
  {
   "cell_type": "markdown",
   "metadata": {
    "deletable": true,
    "editable": true
   },
   "source": [
    "Here `value_counts()` returns the frequency distribution of *age* values. See https://pandas.pydata.org/pandas-docs/stable/generated/pandas.Series.value_counts.html"
   ]
  },
  {
   "cell_type": "code",
   "execution_count": null,
   "metadata": {
    "collapsed": false,
    "deletable": true,
    "editable": true
   },
   "outputs": [],
   "source": [
    "titanic_pass_info1.AGE.value_counts().head()"
   ]
  },
  {
   "cell_type": "markdown",
   "metadata": {
    "deletable": true,
    "editable": true
   },
   "source": [
    "Let us check that there *really* are 19 passengers in the Titanic who were 22 years old."
   ]
  },
  {
   "cell_type": "code",
   "execution_count": null,
   "metadata": {
    "collapsed": false,
    "deletable": true,
    "editable": true
   },
   "outputs": [],
   "source": [
    "(titanic_pass_info1.AGE==22).sum()"
   ]
  },
  {
   "cell_type": "markdown",
   "metadata": {
    "deletable": true,
    "editable": true
   },
   "source": [
    "By the default the number of `nan` (i.e. missing) values are **not** displayed. But we can display them be setting `dropna=False`"
   ]
  },
  {
   "cell_type": "code",
   "execution_count": null,
   "metadata": {
    "collapsed": false,
    "deletable": true,
    "editable": true
   },
   "outputs": [],
   "source": [
    "titanic_pass_info1.AGE.value_counts(dropna=False).head()"
   ]
  },
  {
   "cell_type": "markdown",
   "metadata": {
    "deletable": true,
    "editable": true
   },
   "source": [
    "Here is one way to apply `value counts()` to a subset of columns..."
   ]
  },
  {
   "cell_type": "code",
   "execution_count": null,
   "metadata": {
    "collapsed": false,
    "deletable": true,
    "editable": true
   },
   "outputs": [],
   "source": [
    "titanic_df1[['SEX','Embarked']].apply(pd.value_counts)"
   ]
  },
  {
   "cell_type": "markdown",
   "metadata": {
    "deletable": true,
    "editable": true
   },
   "source": [
    "Let us select the same columns from `titanic_df2` that we selected for `titanic_df1`. We are going to concatenate the two DataFrames and want them to have the *identical* columns. This is **not** a prerequisite for concatanation. In fact, in part 1 on of *GrEx 1* one of the DataFrames in the list of DataFrames you will be concatenating together will have an *extra* column."
   ]
  },
  {
   "cell_type": "code",
   "execution_count": null,
   "metadata": {
    "collapsed": false,
    "deletable": true,
    "editable": true
   },
   "outputs": [],
   "source": [
    "titanic_pass_info2 = titanic_df2[['ID','SEX','AGE']]\n",
    "titanic_pass_info2.head()"
   ]
  },
  {
   "cell_type": "markdown",
   "metadata": {
    "deletable": true,
    "editable": true
   },
   "source": [
    "For variety's sake, this time we use the `insert` method to insert the constant \"PAGE\" column. The first number listed, i.e. 3, refers to the *position* we want to insert the column at. We start counting at 0 and so we want 'PAGE' to be the fourth column. The new column will have the *constant* value 2. See https://pandas.pydata.org/pandas-docs/stable/generated/pandas.DataFrame.insert.html"
   ]
  },
  {
   "cell_type": "code",
   "execution_count": null,
   "metadata": {
    "collapsed": false,
    "deletable": true,
    "editable": true
   },
   "outputs": [],
   "source": [
    "titanic_pass_info2.insert(3,'PAGE',2)"
   ]
  },
  {
   "cell_type": "code",
   "execution_count": null,
   "metadata": {
    "collapsed": false,
    "deletable": true,
    "editable": true
   },
   "outputs": [],
   "source": [
    "titanic_pass_info2.head()"
   ]
  },
  {
   "cell_type": "markdown",
   "metadata": {
    "deletable": true,
    "editable": true
   },
   "source": [
    "We want to *stack* `titanic_pass_info1` on top of `titanic_pass_info`. We use pandas `concat` method to do this. See:\n",
    "\n",
    "https://pandas.pydata.org/pandas-docs/stable/generated/pandas.concat.html.\n",
    "\n",
    "Note that we are concatenating along the *default axis*, i.e. `axis=0`. If we wanted to place them *side by side* instead we would set `axis=1`."
   ]
  },
  {
   "cell_type": "code",
   "execution_count": null,
   "metadata": {
    "collapsed": false,
    "deletable": true,
    "editable": true
   },
   "outputs": [],
   "source": [
    "titanic_pass_df = pd.concat([titanic_pass_info1,titanic_pass_info2])"
   ]
  },
  {
   "cell_type": "markdown",
   "metadata": {
    "deletable": true,
    "editable": true
   },
   "source": [
    "Again, By default, `axis=0`. But we could have written this explicitly in the command:\n",
    "\n",
    "\n",
    "`titanic_pass_df = pd.concat([titanic_pass_info1,titanic_pass_info2],axis=0)`"
   ]
  },
  {
   "cell_type": "code",
   "execution_count": null,
   "metadata": {
    "collapsed": false,
    "deletable": true,
    "editable": true
   },
   "outputs": [],
   "source": [
    "titanic_pass_df.shape"
   ]
  },
  {
   "cell_type": "code",
   "execution_count": null,
   "metadata": {
    "collapsed": false,
    "deletable": true,
    "editable": true
   },
   "outputs": [],
   "source": [
    "titanic_pass_df.columns"
   ]
  },
  {
   "cell_type": "code",
   "execution_count": null,
   "metadata": {
    "collapsed": false,
    "deletable": true,
    "editable": true
   },
   "outputs": [],
   "source": [
    "titanic_pass_df.head()"
   ]
  },
  {
   "cell_type": "markdown",
   "metadata": {
    "deletable": true,
    "editable": true
   },
   "source": [
    "Let use write the *titanic_pass_df* DataFrame to a new csv file (in the current directory) with filename `titanic_pass.csv`. By the default the index column is written to the file. We don't want that to happen. So we set `index=False`."
   ]
  },
  {
   "cell_type": "code",
   "execution_count": null,
   "metadata": {
    "collapsed": false,
    "deletable": true,
    "editable": true
   },
   "outputs": [],
   "source": [
    "titanic_pass_df.to_csv(\"titanic_pass.csv\",index=False)"
   ]
  },
  {
   "cell_type": "markdown",
   "metadata": {
    "deletable": true,
    "editable": true
   },
   "source": [
    "We check that the file was actually written to the current directory."
   ]
  },
  {
   "cell_type": "code",
   "execution_count": null,
   "metadata": {
    "collapsed": false,
    "deletable": true,
    "editable": true
   },
   "outputs": [],
   "source": [
    "ls"
   ]
  }
 ],
 "metadata": {
  "anaconda-cloud": {},
  "kernelspec": {
   "display_name": "Python 2",
   "language": "python",
   "name": "python2"
  },
  "language_info": {
   "codemirror_mode": {
    "name": "ipython",
    "version": 2
   },
   "file_extension": ".py",
   "mimetype": "text/x-python",
   "name": "python",
   "nbconvert_exporter": "python",
   "pygments_lexer": "ipython2",
   "version": "2.7.11"
  }
 },
 "nbformat": 4,
 "nbformat_minor": 2
}
